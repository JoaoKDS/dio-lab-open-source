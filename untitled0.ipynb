{
  "nbformat": 4,
  "nbformat_minor": 0,
  "metadata": {
    "colab": {
      "provenance": [],
      "authorship_tag": "ABX9TyM5zJRi3yKSK08xpDaA7ZyY",
      "include_colab_link": true
    },
    "kernelspec": {
      "name": "python3",
      "display_name": "Python 3"
    },
    "language_info": {
      "name": "python"
    }
  },
  "cells": [
    {
      "cell_type": "markdown",
      "metadata": {
        "id": "view-in-github",
        "colab_type": "text"
      },
      "source": [
        "<a href=\"https://colab.research.google.com/github/JoaoKDS/dio-lab-open-source/blob/main/untitled0.ipynb\" target=\"_parent\"><img src=\"https://colab.research.google.com/assets/colab-badge.svg\" alt=\"Open In Colab\"/></a>"
      ]
    },
    {
      "cell_type": "code",
      "execution_count": null,
      "metadata": {
        "colab": {
          "base_uri": "https://localhost:8080/"
        },
        "id": "ZuzeR01eEC-y",
        "outputId": "38e43e77-94e1-4c00-9dfc-a74684004109"
      },
      "outputs": [
        {
          "output_type": "stream",
          "name": "stdout",
          "text": [
            "Requirement already satisfied: google-genai in /usr/local/lib/python3.11/dist-packages (1.15.0)\n",
            "Requirement already satisfied: anyio<5.0.0,>=4.8.0 in /usr/local/lib/python3.11/dist-packages (from google-genai) (4.9.0)\n",
            "Requirement already satisfied: google-auth<3.0.0,>=2.14.1 in /usr/local/lib/python3.11/dist-packages (from google-genai) (2.38.0)\n",
            "Requirement already satisfied: httpx<1.0.0,>=0.28.1 in /usr/local/lib/python3.11/dist-packages (from google-genai) (0.28.1)\n",
            "Requirement already satisfied: pydantic<3.0.0,>=2.0.0 in /usr/local/lib/python3.11/dist-packages (from google-genai) (2.11.4)\n",
            "Requirement already satisfied: requests<3.0.0,>=2.28.1 in /usr/local/lib/python3.11/dist-packages (from google-genai) (2.32.3)\n",
            "Requirement already satisfied: websockets<15.1.0,>=13.0.0 in /usr/local/lib/python3.11/dist-packages (from google-genai) (15.0.1)\n",
            "Requirement already satisfied: typing-extensions<5.0.0,>=4.11.0 in /usr/local/lib/python3.11/dist-packages (from google-genai) (4.13.2)\n",
            "Requirement already satisfied: idna>=2.8 in /usr/local/lib/python3.11/dist-packages (from anyio<5.0.0,>=4.8.0->google-genai) (3.10)\n",
            "Requirement already satisfied: sniffio>=1.1 in /usr/local/lib/python3.11/dist-packages (from anyio<5.0.0,>=4.8.0->google-genai) (1.3.1)\n",
            "Requirement already satisfied: cachetools<6.0,>=2.0.0 in /usr/local/lib/python3.11/dist-packages (from google-auth<3.0.0,>=2.14.1->google-genai) (5.5.2)\n",
            "Requirement already satisfied: pyasn1-modules>=0.2.1 in /usr/local/lib/python3.11/dist-packages (from google-auth<3.0.0,>=2.14.1->google-genai) (0.4.2)\n",
            "Requirement already satisfied: rsa<5,>=3.1.4 in /usr/local/lib/python3.11/dist-packages (from google-auth<3.0.0,>=2.14.1->google-genai) (4.9.1)\n",
            "Requirement already satisfied: certifi in /usr/local/lib/python3.11/dist-packages (from httpx<1.0.0,>=0.28.1->google-genai) (2025.4.26)\n",
            "Requirement already satisfied: httpcore==1.* in /usr/local/lib/python3.11/dist-packages (from httpx<1.0.0,>=0.28.1->google-genai) (1.0.9)\n",
            "Requirement already satisfied: h11>=0.16 in /usr/local/lib/python3.11/dist-packages (from httpcore==1.*->httpx<1.0.0,>=0.28.1->google-genai) (0.16.0)\n",
            "Requirement already satisfied: annotated-types>=0.6.0 in /usr/local/lib/python3.11/dist-packages (from pydantic<3.0.0,>=2.0.0->google-genai) (0.7.0)\n",
            "Requirement already satisfied: pydantic-core==2.33.2 in /usr/local/lib/python3.11/dist-packages (from pydantic<3.0.0,>=2.0.0->google-genai) (2.33.2)\n",
            "Requirement already satisfied: typing-inspection>=0.4.0 in /usr/local/lib/python3.11/dist-packages (from pydantic<3.0.0,>=2.0.0->google-genai) (0.4.0)\n",
            "Requirement already satisfied: charset-normalizer<4,>=2 in /usr/local/lib/python3.11/dist-packages (from requests<3.0.0,>=2.28.1->google-genai) (3.4.2)\n",
            "Requirement already satisfied: urllib3<3,>=1.21.1 in /usr/local/lib/python3.11/dist-packages (from requests<3.0.0,>=2.28.1->google-genai) (2.4.0)\n",
            "Requirement already satisfied: pyasn1<0.7.0,>=0.6.1 in /usr/local/lib/python3.11/dist-packages (from pyasn1-modules>=0.2.1->google-auth<3.0.0,>=2.14.1->google-genai) (0.6.1)\n"
          ]
        }
      ],
      "source": [
        "%pip install google-genai"
      ]
    },
    {
      "cell_type": "code",
      "source": [
        "import os\n",
        "from google.colab import userdata\n",
        "\n",
        "os.environ[\"GOOGLE_API_KEY\"] = userdata.get('GOOGLE_API_KEY')"
      ],
      "metadata": {
        "id": "QhJwjHqoGTnw"
      },
      "execution_count": null,
      "outputs": []
    },
    {
      "cell_type": "code",
      "source": [
        "from google import genai\n",
        "\n",
        "client = genai.Client()"
      ],
      "metadata": {
        "id": "tiBC593sHlt0"
      },
      "execution_count": null,
      "outputs": []
    },
    {
      "cell_type": "code",
      "source": [
        "for model in client.models.list():\n",
        "  print(model.name)"
      ],
      "metadata": {
        "colab": {
          "base_uri": "https://localhost:8080/"
        },
        "id": "eGYTr8YkIWr_",
        "outputId": "60f55ff6-379b-49a0-b162-ff3125667c33"
      },
      "execution_count": null,
      "outputs": [
        {
          "output_type": "stream",
          "name": "stdout",
          "text": [
            "models/chat-bison-001\n",
            "models/text-bison-001\n",
            "models/embedding-gecko-001\n",
            "models/gemini-1.0-pro-vision-latest\n",
            "models/gemini-pro-vision\n",
            "models/gemini-1.5-pro-latest\n",
            "models/gemini-1.5-pro-001\n",
            "models/gemini-1.5-pro-002\n",
            "models/gemini-1.5-pro\n",
            "models/gemini-1.5-flash-latest\n",
            "models/gemini-1.5-flash-001\n",
            "models/gemini-1.5-flash-001-tuning\n",
            "models/gemini-1.5-flash\n",
            "models/gemini-1.5-flash-002\n",
            "models/gemini-1.5-flash-8b\n",
            "models/gemini-1.5-flash-8b-001\n",
            "models/gemini-1.5-flash-8b-latest\n",
            "models/gemini-1.5-flash-8b-exp-0827\n",
            "models/gemini-1.5-flash-8b-exp-0924\n",
            "models/gemini-2.5-pro-exp-03-25\n",
            "models/gemini-2.5-pro-preview-03-25\n",
            "models/gemini-2.5-flash-preview-04-17\n",
            "models/gemini-2.5-flash-preview-04-17-thinking\n",
            "models/gemini-2.5-pro-preview-05-06\n",
            "models/gemini-2.0-flash-exp\n",
            "models/gemini-2.0-flash\n",
            "models/gemini-2.0-flash-001\n",
            "models/gemini-2.0-flash-exp-image-generation\n",
            "models/gemini-2.0-flash-lite-001\n",
            "models/gemini-2.0-flash-lite\n",
            "models/gemini-2.0-flash-preview-image-generation\n",
            "models/gemini-2.0-flash-lite-preview-02-05\n",
            "models/gemini-2.0-flash-lite-preview\n",
            "models/gemini-2.0-pro-exp\n",
            "models/gemini-2.0-pro-exp-02-05\n",
            "models/gemini-exp-1206\n",
            "models/gemini-2.0-flash-thinking-exp-01-21\n",
            "models/gemini-2.0-flash-thinking-exp\n",
            "models/gemini-2.0-flash-thinking-exp-1219\n",
            "models/learnlm-2.0-flash-experimental\n",
            "models/gemma-3-1b-it\n",
            "models/gemma-3-4b-it\n",
            "models/gemma-3-12b-it\n",
            "models/gemma-3-27b-it\n",
            "models/embedding-001\n",
            "models/text-embedding-004\n",
            "models/gemini-embedding-exp-03-07\n",
            "models/gemini-embedding-exp\n",
            "models/aqa\n",
            "models/imagen-3.0-generate-002\n",
            "models/gemini-2.0-flash-live-001\n"
          ]
        }
      ]
    },
    {
      "cell_type": "code",
      "source": [
        "model = \"gemini-2.0-flash\"\n",
        "\n",
        "resposta = client.models.generate_content(model=model, contents= \"Qual a maneira mais facil de aprender python?\")\n"
      ],
      "metadata": {
        "id": "-LagObVvKKId"
      },
      "execution_count": null,
      "outputs": []
    },
    {
      "cell_type": "code",
      "source": [
        "resposta.text"
      ],
      "metadata": {
        "colab": {
          "base_uri": "https://localhost:8080/",
          "height": 122
        },
        "id": "_AZzimI6LOFe",
        "outputId": "74a65f28-4d5e-4c2a-a2dc-d13fc9863336"
      },
      "execution_count": null,
      "outputs": [
        {
          "output_type": "execute_result",
          "data": {
            "text/plain": [
              "'A maneira mais fácil de aprender Python depende muito do seu estilo de aprendizado e do seu objetivo. No entanto, aqui estão algumas abordagens populares e dicas para tornar o processo mais suave:\\n\\n**1. Escolha um método de aprendizado que se adapte a você:**\\n\\n*   **Cursos online interativos:** Plataformas como Codecademy, Coursera, Udacity e DataCamp oferecem cursos interativos que combinam teoria com exercícios práticos. São ótimos para iniciantes porque guiam você passo a passo e fornecem feedback imediato.\\n*   **Tutoriais em vídeo:** YouTube e outras plataformas de vídeo têm muitos tutoriais gratuitos e pagos. Se você aprende melhor visualmente, essa pode ser uma ótima opção. Procurar por playlists de \"Python para Iniciantes\" ou \"Python para Leigos\" pode ser um bom começo.\\n*   **Livros:** Existem muitos livros excelentes para aprender Python, desde os mais básicos até os mais avançados. \"Python Crash Course\" e \"Automate the Boring Stuff with Python\" são frequentemente recomendados para iniciantes.\\n*   **Documentação oficial do Python:** Pode parecer intimidante no início, mas a documentação oficial é uma fonte completa e confiável de informações sobre a linguagem. Use-a como referência à medida que avança.\\n*   **Projetos práticos:** A melhor maneira de aprender é colocar a mão na massa. Comece com projetos simples, como criar uma calculadora ou um jogo de adivinhação, e vá aumentando a complexidade gradualmente.\\n\\n**2. Dicas para tornar o aprendizado mais fácil:**\\n\\n*   **Comece pelo básico:** Domine os conceitos fundamentais, como variáveis, tipos de dados, operadores, estruturas de controle (if/else, loops) e funções, antes de se aventurar em tópicos mais avançados.\\n*   **Pratique regularmente:** A prática leva à perfeição. Reserve um tempo para programar todos os dias ou pelo menos algumas vezes por semana.\\n*   **Escreva código o tempo todo:** Não se limite a ler ou assistir tutoriais. Escreva seu próprio código, experimente, faça modificações e veja o que acontece.\\n*   **Divida problemas grandes em partes menores:** Se você estiver trabalhando em um projeto complexo, divida-o em tarefas menores e mais gerenciáveis.\\n*   **Peça ajuda quando precisar:** Não tenha medo de pedir ajuda em fóruns online, grupos de discussão ou para amigos que já programam. Stack Overflow é uma excelente fonte de respostas para perguntas de programação.\\n*   **Leia código de outras pessoas:** Explore projetos de código aberto no GitHub para ver como programadores experientes resolvem problemas e para aprender novas técnicas.\\n*   **Use um editor de código adequado:** Escolha um editor de código que facilite a leitura e a escrita de código Python. VS Code, Sublime Text e PyCharm são opções populares.\\n*   **Tenha paciência:** Aprender a programar leva tempo e esforço. Não se frustre se você encontrar dificuldades. Continue praticando e você acabará dominando a linguagem.\\n*   **Defina metas realistas:** Comece com metas pequenas e alcançáveis, como aprender um novo conceito por semana ou concluir um pequeno projeto por mês.\\n*   **Mantenha-se motivado:** Encontre maneiras de se manter motivado, como trabalhar em projetos que você ache interessantes ou participar de comunidades online de programadores Python.\\n\\n**Sugestões de cursos/recursos iniciais:**\\n\\n*   **Codecademy:** Curso interativo e prático para iniciantes.\\n*   **Coursera (Universidade de Michigan):** \"Python for Everybody\" - Um curso introdutório abrangente.\\n*   **YouTube (Curso em Vídeo):** Procurar por \"Python para Iniciantes\" do Curso em Vídeo.\\n*   **Livro:** \"Python Crash Course\" - Um guia prático e fácil de seguir.\\n\\n**Em resumo:**\\n\\nA \"maneira mais fácil\" é aquela que funciona melhor para *você*. Experimente diferentes abordagens, encontre recursos que sejam adequados ao seu estilo de aprendizado e, acima de tudo, pratique, pratique, pratique!  Boa sorte!\\n'"
            ],
            "application/vnd.google.colaboratory.intrinsic+json": {
              "type": "string"
            }
          },
          "metadata": {},
          "execution_count": 9
        }
      ]
    },
    {
      "cell_type": "code",
      "source": [
        "chat = client.chats.create(model=model)\n",
        "\n",
        "resposta = chat.send_message(\"oi, tudo bem?\")\n",
        "\n",
        "resposta.text\n",
        "\n"
      ],
      "metadata": {
        "colab": {
          "base_uri": "https://localhost:8080/",
          "height": 35
        },
        "id": "f0Jb6VRsMBxO",
        "outputId": "67b95979-9f0b-457e-84b8-42c05be098b0"
      },
      "execution_count": null,
      "outputs": [
        {
          "output_type": "execute_result",
          "data": {
            "text/plain": [
              "'Olá! Tudo bem por aqui, obrigada por perguntar. E com você? 😊\\n'"
            ],
            "application/vnd.google.colaboratory.intrinsic+json": {
              "type": "string"
            }
          },
          "metadata": {},
          "execution_count": 11
        }
      ]
    },
    {
      "cell_type": "code",
      "source": [
        "chat = client.chats.create(model=model)\n",
        "\n",
        "resposta = chat.send_message(\"Voce é um assistente pessoal e vc sempre responde de forma suscinta. Oque é IA?\")\n",
        "\n",
        "resposta.text"
      ],
      "metadata": {
        "colab": {
          "base_uri": "https://localhost:8080/",
          "height": 35
        },
        "id": "llv4MO6bMzj8",
        "outputId": "a4d54f58-f354-474e-b761-f7ca04fe3020"
      },
      "execution_count": null,
      "outputs": [
        {
          "output_type": "execute_result",
          "data": {
            "text/plain": [
              "'IA (Inteligência Artificial) é a capacidade de máquinas imitarem a inteligência humana.\\n'"
            ],
            "application/vnd.google.colaboratory.intrinsic+json": {
              "type": "string"
            }
          },
          "metadata": {},
          "execution_count": 13
        }
      ]
    },
    {
      "cell_type": "code",
      "source": [
        "from google.genai import types\n",
        "\n",
        "chat_config = types.GenerateContentConfig(\n",
        "    system_instruction= \"Voce é um assistente pessoal e vc sempre responde de forma sucinta.\"\n",
        ")\n",
        "\n",
        "chat = client.chats.create(model=model, config=chat_config)"
      ],
      "metadata": {
        "id": "HOOp6wjjNa94"
      },
      "execution_count": null,
      "outputs": []
    },
    {
      "cell_type": "code",
      "source": [
        "\n",
        "\n",
        "resposta = chat.send_message(\"oque é power BI\")\n",
        "\n",
        "resposta.text"
      ],
      "metadata": {
        "colab": {
          "base_uri": "https://localhost:8080/",
          "height": 35
        },
        "id": "JQhY4MYzOzMz",
        "outputId": "19359c67-1d0a-4530-81d3-e3108ba2577a"
      },
      "execution_count": null,
      "outputs": [
        {
          "output_type": "execute_result",
          "data": {
            "text/plain": [
              "'Power BI é uma ferramenta da Microsoft para análise de dados e visualização de informações.\\n'"
            ],
            "application/vnd.google.colaboratory.intrinsic+json": {
              "type": "string"
            }
          },
          "metadata": {},
          "execution_count": 16
        }
      ]
    },
    {
      "cell_type": "code",
      "source": [
        "chat.get_history()"
      ],
      "metadata": {
        "colab": {
          "base_uri": "https://localhost:8080/"
        },
        "id": "o6YUewNBPOnT",
        "outputId": "5db21659-5e62-454b-b1ab-d573d777ef13"
      },
      "execution_count": null,
      "outputs": [
        {
          "output_type": "execute_result",
          "data": {
            "text/plain": [
              "[UserContent(parts=[Part(video_metadata=None, thought=None, inline_data=None, code_execution_result=None, executable_code=None, file_data=None, function_call=None, function_response=None, text='oque é power BI')], role='user'),\n",
              " Content(parts=[Part(video_metadata=None, thought=None, inline_data=None, code_execution_result=None, executable_code=None, file_data=None, function_call=None, function_response=None, text='Power BI é uma ferramenta da Microsoft para análise de dados e visualização de informações.\\n')], role='model')]"
            ]
          },
          "metadata": {},
          "execution_count": 17
        }
      ]
    },
    {
      "cell_type": "code",
      "source": [
        "prompt = input(\"esperando prompt: \")\n",
        "\n",
        "while prompt != \"Obrigado\":\n",
        "  resposta = chat.send_message(prompt)\n",
        "  print(\"Resposta:\", resposta.text)\n",
        "  print(\"/n\")\n",
        "  prompt = input(\"esperando prompt: \")"
      ],
      "metadata": {
        "colab": {
          "base_uri": "https://localhost:8080/"
        },
        "id": "J4vN_qeLPlxz",
        "outputId": "837358b5-2dba-4599-b1cd-311693b0445a"
      },
      "execution_count": null,
      "outputs": [
        {
          "name": "stdout",
          "output_type": "stream",
          "text": [
            "esperando prompt: Quem foi aristotoles?\n",
            "Resposta: Aristóteles foi um filósofo e cientista da Grécia Antiga, um dos mais influentes pensadores da história.\n",
            "\n",
            "/n\n",
            "esperando prompt: qual foi sua maior descoberta?\n",
            "Resposta: Aristóteles fez contribuições significativas em diversas áreas, mas é difícil apontar uma única \"maior descoberta\". Suas contribuições na lógica e na sistematização do pensamento científico são notáveis.\n",
            "\n",
            "/n\n",
            "esperando prompt: a sua principal então?\n",
            "Resposta: Sua principal contribuição pode ser considerada o desenvolvimento da lógica formal e do método científico.\n",
            "\n",
            "/n\n",
            "esperando prompt: ele morreu com quantos anos?\n",
            "Resposta: Aristóteles morreu aos 62 anos.\n",
            "\n",
            "/n\n",
            "esperando prompt: qual foi a primeira pergunta que eu fiz?\n",
            "Resposta: A primeira pergunta que você fez foi: \"oque é power BI\".\n",
            "\n",
            "/n\n",
            "esperando prompt: obrigado\n",
            "Resposta: De nada! Se precisar de mais alguma coisa, é só perguntar.\n",
            "\n",
            "/n\n",
            "esperando prompt: Obrigado\n"
          ]
        }
      ]
    },
    {
      "cell_type": "code",
      "source": [
        "chat.get_history"
      ],
      "metadata": {
        "colab": {
          "base_uri": "https://localhost:8080/",
          "height": 187
        },
        "collapsed": true,
        "id": "yaCoZpmIRKRq",
        "outputId": "fe9e1f23-0659-48b3-c537-6c20b3fb285b"
      },
      "execution_count": null,
      "outputs": [
        {
          "output_type": "execute_result",
          "data": {
            "text/plain": [
              "<bound method _BaseChat.get_history of <google.genai.chats.Chat object at 0x7bcd569f4290>>"
            ],
            "text/html": [
              "<div style=\"max-width:800px; border: 1px solid var(--colab-border-color);\"><style>\n",
              "      pre.function-repr-contents {\n",
              "        overflow-x: auto;\n",
              "        padding: 8px 12px;\n",
              "        max-height: 500px;\n",
              "      }\n",
              "\n",
              "      pre.function-repr-contents.function-repr-contents-collapsed {\n",
              "        cursor: pointer;\n",
              "        max-height: 100px;\n",
              "      }\n",
              "    </style>\n",
              "    <pre style=\"white-space: initial; background:\n",
              "         var(--colab-secondary-surface-color); padding: 8px 12px;\n",
              "         border-bottom: 1px solid var(--colab-border-color);\"><b>google.genai.chats._BaseChat.get_history</b><br/>def get_history(curated: bool=False) -&gt; list[Content]</pre><pre class=\"function-repr-contents function-repr-contents-collapsed\" style=\"\"><a class=\"filepath\" style=\"display:none\" href=\"#\">/usr/local/lib/python3.11/dist-packages/google/genai/chats.py</a>Returns the chat history.\n",
              "\n",
              "Args:\n",
              "    curated: A boolean flag indicating whether to return the curated (valid)\n",
              "      history or the comprehensive (all turns) history. Defaults to False\n",
              "      (returns the comprehensive history).\n",
              "\n",
              "Returns:\n",
              "    A list of `Content` objects representing the chat history.</pre>\n",
              "      <script>\n",
              "      if (google.colab.kernel.accessAllowed && google.colab.files && google.colab.files.view) {\n",
              "        for (const element of document.querySelectorAll('.filepath')) {\n",
              "          element.style.display = 'block'\n",
              "          element.onclick = (event) => {\n",
              "            event.preventDefault();\n",
              "            event.stopPropagation();\n",
              "            google.colab.files.view(element.textContent, 178);\n",
              "          };\n",
              "        }\n",
              "      }\n",
              "      for (const element of document.querySelectorAll('.function-repr-contents')) {\n",
              "        element.onclick = (event) => {\n",
              "          event.preventDefault();\n",
              "          event.stopPropagation();\n",
              "          element.classList.toggle('function-repr-contents-collapsed');\n",
              "        };\n",
              "      }\n",
              "      </script>\n",
              "      </div>"
            ]
          },
          "metadata": {},
          "execution_count": 21
        }
      ]
    }
  ]
}